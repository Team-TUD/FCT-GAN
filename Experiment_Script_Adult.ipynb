{
 "cells": [
  {
   "cell_type": "code",
   "execution_count": 1,
   "metadata": {},
   "outputs": [],
   "source": [
    "from model.fctgan import FCTGAN\n",
    "from model.eval.evaluation import get_utility_metrics,stat_sim,privacy_metrics\n",
    "import numpy as np\n",
    "import pandas as pd\n",
    "import glob"
   ]
  },
  {
   "cell_type": "code",
   "execution_count": 2,
   "metadata": {},
   "outputs": [],
   "source": [
    "num_exp = 1\n",
    "dataset = \"Adult\"\n",
    "real_path = \"Real_Datasets/Adult.csv\"\n",
    "fake_file_root = \"Fake_Datasets\""
   ]
  },
  {
   "cell_type": "code",
   "execution_count": 3,
   "metadata": {},
   "outputs": [],
   "source": [
    "synthesizer =  FCTGAN(raw_csv_path = real_path,\n",
    "                 test_ratio = 0.20,\n",
    "                 categorical_columns = ['workclass', 'education', 'marital-status', 'occupation', 'relationship', 'race', 'gender', 'native-country', 'income'], \n",
    "                 log_columns = [],\n",
    "                 mixed_columns= {'capital-loss':[0.0],'capital-gain':[0.0]},\n",
    "                 general_columns = [\"age\"],\n",
    "                 non_categorical_columns = [],\n",
    "                 integer_columns = ['age', 'fnlwgt','capital-gain', 'capital-loss','hours-per-week'],\n",
    "                 problem_type= {\"Classification\": 'income'}) \n",
    "\n",
    "for i in range(num_exp):\n",
    "    synthesizer.fit()"
   ]
  },
  {
   "cell_type": "code",
   "execution_count": 4,
   "metadata": {},
   "outputs": [],
   "source": [
    "for i in range(3):\n",
    "    syn = synthesizer.generate_samples()\n",
    "    syn.to_csv(fake_file_root+\"/\"+dataset+\"/\"+ dataset+\"_fake_{exp}.csv\".format(exp=i), index= False)\n",
    "    \n",
    "fake_paths = glob.glob(fake_file_root+\"/\"+dataset+\"/\"+\"*\")"
   ]
  },
  {
   "cell_type": "code",
   "execution_count": 5,
   "metadata": {},
   "outputs": [
    {
     "data": {
      "text/html": [
       "<div>\n",
       "<style scoped>\n",
       "    .dataframe tbody tr th:only-of-type {\n",
       "        vertical-align: middle;\n",
       "    }\n",
       "\n",
       "    .dataframe tbody tr th {\n",
       "        vertical-align: top;\n",
       "    }\n",
       "\n",
       "    .dataframe thead th {\n",
       "        text-align: right;\n",
       "    }\n",
       "</style>\n",
       "<table border=\"1\" class=\"dataframe\">\n",
       "  <thead>\n",
       "    <tr style=\"text-align: right;\">\n",
       "      <th></th>\n",
       "      <th>Acc</th>\n",
       "      <th>AUC</th>\n",
       "      <th>F1_Score</th>\n",
       "    </tr>\n",
       "  </thead>\n",
       "  <tbody>\n",
       "    <tr>\n",
       "      <th>lr</th>\n",
       "      <td>0.713140</td>\n",
       "      <td>0.004609</td>\n",
       "      <td>0.015289</td>\n",
       "    </tr>\n",
       "    <tr>\n",
       "      <th>dt</th>\n",
       "      <td>1.699253</td>\n",
       "      <td>0.037113</td>\n",
       "      <td>0.030966</td>\n",
       "    </tr>\n",
       "    <tr>\n",
       "      <th>rf</th>\n",
       "      <td>2.214488</td>\n",
       "      <td>0.027903</td>\n",
       "      <td>0.037367</td>\n",
       "    </tr>\n",
       "    <tr>\n",
       "      <th>mlp</th>\n",
       "      <td>0.948579</td>\n",
       "      <td>0.012153</td>\n",
       "      <td>0.011448</td>\n",
       "    </tr>\n",
       "    <tr>\n",
       "      <th>svm</th>\n",
       "      <td>-0.119425</td>\n",
       "      <td>0.010989</td>\n",
       "      <td>-0.058133</td>\n",
       "    </tr>\n",
       "  </tbody>\n",
       "</table>\n",
       "</div>"
      ],
      "text/plain": [
       "          Acc       AUC  F1_Score\n",
       "lr   0.713140  0.004609  0.015289\n",
       "dt   1.699253  0.037113  0.030966\n",
       "rf   2.214488  0.027903  0.037367\n",
       "mlp  0.948579  0.012153  0.011448\n",
       "svm -0.119425  0.010989 -0.058133"
      ]
     },
     "execution_count": 5,
     "metadata": {},
     "output_type": "execute_result"
    }
   ],
   "source": [
    "# ML utility\n",
    "model_dict = {\"Classification\":[\"lr\",\"dt\",\"rf\",\"mlp\",\"svm\"]}\n",
    "result_mat = get_utility_metrics(real_path,fake_paths,\"MinMax\",model_dict, test_ratio = 0.20)\n",
    "\n",
    "result_df  = pd.DataFrame(result_mat,columns=[\"Acc\",\"AUC\",\"F1_Score\"])\n",
    "result_df.index = list(model_dict.values())[0]\n",
    "result_df"
   ]
  },
  {
   "cell_type": "code",
   "execution_count": 6,
   "metadata": {
    "scrolled": true
   },
   "outputs": [
    {
     "name": "stdout",
     "output_type": "stream",
     "text": [
      "column:  workclass JSD:  0.03154151227194534\n",
      "column:  occupation JSD:  0.050341316424578335\n",
      "column:  gender JSD:  0.006005960807513372\n",
      "column:  hours-per-week WD:  0.007146743059043361\n",
      "column:  marital-status JSD:  0.035607382304239966\n",
      "column:  relationship JSD:  0.036528548537697804\n",
      "column:  race JSD:  0.03875986118772108\n",
      "column:  native-country JSD:  0.05966432605872128\n",
      "column:  age WD:  0.015327309249337954\n",
      "column:  capital-gain WD:  0.003708720392555884\n",
      "column:  education JSD:  0.05824565739446568\n",
      "column:  capital-loss WD:  0.0038093353170540857\n",
      "column:  fnlwgt WD:  0.007338431016060179\n",
      "column:  income JSD:  0.02393941579230806\n",
      "column:  workclass JSD:  0.03241094062327032\n",
      "column:  occupation JSD:  0.046745241291436514\n",
      "column:  gender JSD:  0.006557172737421196\n",
      "column:  hours-per-week WD:  0.006873893245107711\n",
      "column:  marital-status JSD:  0.03697911964207673\n",
      "column:  relationship JSD:  0.03357806697241575\n",
      "column:  race JSD:  0.03204392586517034\n",
      "column:  native-country JSD:  0.05962849080828862\n",
      "column:  age WD:  0.01583355443580166\n",
      "column:  capital-gain WD:  0.0035768395438345903\n",
      "column:  education JSD:  0.05558627308254166\n",
      "column:  capital-loss WD:  0.00420962531720411\n",
      "column:  fnlwgt WD:  0.00768367448436847\n",
      "column:  income JSD:  0.02508161996124481\n",
      "column:  workclass JSD:  0.02976206486169995\n",
      "column:  occupation JSD:  0.05397805345623705\n",
      "column:  gender JSD:  0.004774029596602123\n",
      "column:  hours-per-week WD:  0.007255172655852395\n",
      "column:  marital-status JSD:  0.037330591470930236\n",
      "column:  relationship JSD:  0.03389702251263641\n",
      "column:  race JSD:  0.035260621906666116\n",
      "column:  native-country JSD:  0.05886944556966563\n",
      "column:  age WD:  0.01559094940184536\n",
      "column:  capital-gain WD:  0.003999486577724764\n",
      "column:  education JSD:  0.061737995474303316\n",
      "column:  capital-loss WD:  0.00399730673321584\n",
      "column:  fnlwgt WD:  0.006987861807307922\n",
      "column:  income JSD:  0.024531409208064573\n"
     ]
    },
    {
     "data": {
      "text/html": [
       "<div>\n",
       "<style scoped>\n",
       "    .dataframe tbody tr th:only-of-type {\n",
       "        vertical-align: middle;\n",
       "    }\n",
       "\n",
       "    .dataframe tbody tr th {\n",
       "        vertical-align: top;\n",
       "    }\n",
       "\n",
       "    .dataframe thead th {\n",
       "        text-align: right;\n",
       "    }\n",
       "</style>\n",
       "<table border=\"1\" class=\"dataframe\">\n",
       "  <thead>\n",
       "    <tr style=\"text-align: right;\">\n",
       "      <th></th>\n",
       "      <th>Average WD (Continuous Columns</th>\n",
       "      <th>Average JSD (Categorical Columns)</th>\n",
       "      <th>Correlation Distance</th>\n",
       "    </tr>\n",
       "  </thead>\n",
       "  <tbody>\n",
       "    <tr>\n",
       "      <th>0</th>\n",
       "      <td>0.007556</td>\n",
       "      <td>0.037385</td>\n",
       "      <td>0.379249</td>\n",
       "    </tr>\n",
       "  </tbody>\n",
       "</table>\n",
       "</div>"
      ],
      "text/plain": [
       "   Average WD (Continuous Columns  Average JSD (Categorical Columns)  \\\n",
       "0                        0.007556                           0.037385   \n",
       "\n",
       "   Correlation Distance  \n",
       "0              0.379249  "
      ]
     },
     "execution_count": 6,
     "metadata": {},
     "output_type": "execute_result"
    }
   ],
   "source": [
    "# Statistical similarity \n",
    "adult_categorical = ['workclass', 'education', 'marital-status', 'occupation', 'relationship', 'race', 'gender', 'native-country', 'income']\n",
    "stat_res_avg = []\n",
    "for fake_path in fake_paths:\n",
    "    stat_res = stat_sim(real_path,fake_path,adult_categorical)\n",
    "    stat_res_avg.append(stat_res)\n",
    "\n",
    "stat_columns = [\"Average WD (Continuous Columns\",\"Average JSD (Categorical Columns)\",\"Correlation Distance\"]\n",
    "stat_results = pd.DataFrame(np.array(stat_res_avg).mean(axis=0).reshape(1,3),columns=stat_columns)\n",
    "stat_results"
   ]
  }
 ],
 "metadata": {
  "interpreter": {
   "hash": "5bbd4e8a0020626d1955d6e7d647b883363040a056d10513dec12a340be08610"
  },
  "kernelspec": {
   "display_name": "Python 3",
   "language": "python",
   "name": "python3"
  },
  "language_info": {
   "codemirror_mode": {
    "name": "ipython",
    "version": 3
   },
   "file_extension": ".py",
   "mimetype": "text/x-python",
   "name": "python",
   "nbconvert_exporter": "python",
   "pygments_lexer": "ipython3",
   "version": "3.7.6"
  }
 },
 "nbformat": 4,
 "nbformat_minor": 2
}
